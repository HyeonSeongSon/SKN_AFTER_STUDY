{
 "cells": [
  {
   "cell_type": "code",
   "execution_count": 1,
   "id": "0a35ba02-7e5b-4577-ae45-72a97c6310ec",
   "metadata": {},
   "outputs": [],
   "source": [
    "import pandas as pd\n",
    "import ast\n",
    "from collections import Counter"
   ]
  },
  {
   "cell_type": "code",
   "execution_count": 2,
   "id": "838b1d73-d4de-425b-9609-75b3bd78cae5",
   "metadata": {},
   "outputs": [],
   "source": [
    "df = pd.read_parquet(r\"C:\\Users\\user\\Desktop\\SKN_AFTER_STUDY\\data\\0000.parquet\", engine=\"pyarrow\")\n",
    "df['annotation'] = df['annotation'].apply(ast.literal_eval)"
   ]
  },
  {
   "cell_type": "code",
   "execution_count": 3,
   "id": "3f21920a-c203-4c70-931f-c2280e789256",
   "metadata": {},
   "outputs": [],
   "source": [
    "def prepro_annotation(labels:list):\n",
    "    dic_list = [dic['emotion'] for dic in labels]\n",
    "    return dic_list\n",
    "\n",
    "def majority_first_value(pairs, min_count=3):\n",
    "    if not pairs:  # None, 빈 리스트 처리\n",
    "        return None\n",
    "    first_values = [pair[0] for pair in pairs]\n",
    "    counts = Counter(first_values)\n",
    "    for val, cnt in counts.items():\n",
    "        if cnt >= min_count:\n",
    "            return val\n",
    "    return None\n",
    "\n",
    "def majority_second_value(pairs, min_count=3):\n",
    "    if not pairs:\n",
    "        return None\n",
    "    second_values = [pair[1] for pair in pairs]\n",
    "    counts = Counter(second_values)\n",
    "    for val, cnt in counts.items():\n",
    "        if cnt >= min_count:\n",
    "            return val\n",
    "    return None\n",
    "\n",
    "# def has_majority(labels: list, min_count=3):\n",
    "#     counts = Counter(labels)\n",
    "#     return any(cnt >= min_count for cnt in counts.values())\n",
    "\n",
    "def max_value(lables:list):\n",
    "    counts = Counter(lables)\n",
    "    return counts.most_common(1)[0][0]\n",
    "\n",
    "def has_majority(labels: list, index: int, min_count=3):\n",
    "    values = [label[index] for label in labels]\n",
    "    counts = Counter(values)\n",
    "    most_frequent = counts.most_common(1)[0][0] if counts else None\n",
    "    return any(cnt >= min_count for cnt in counts.values()), most_frequent\n",
    "\n",
    "# 각 행에 대해 label1과 label2 생성\n",
    "def get_labels(annotations_split):\n",
    "    has_maj_0, most_freq_0 = has_majority(annotations_split, 0)\n",
    "    has_maj_1, most_freq_1 = has_majority(annotations_split, 1)\n",
    "\n",
    "    label1 = most_freq_0 if has_maj_0 else None\n",
    "    label2 = most_freq_1 if has_maj_1 else None\n",
    "\n",
    "    return label1, label2\n",
    "\n",
    "def get_label2(label_list, index):\n",
    "    a,b = label_list[index]\n",
    "    return a,b"
   ]
  },
  {
   "cell_type": "markdown",
   "id": "50a50d60-b63f-472e-b176-a541a1e79697",
   "metadata": {},
   "source": [
    "### 데이터 중분류, 소분류 확인"
   ]
  },
  {
   "cell_type": "code",
   "execution_count": 4,
   "id": "b6f759cd-8c2d-4f2e-a12c-26ff501d4b42",
   "metadata": {},
   "outputs": [],
   "source": [
    "df['annotation']= df['annotation'].apply(prepro_annotation)"
   ]
  },
  {
   "cell_type": "code",
   "execution_count": 5,
   "id": "c354e448-191c-4139-bba9-7254e9e9b650",
   "metadata": {},
   "outputs": [],
   "source": [
    "df[\"annotations_split\"] = df[\"annotation\"].apply(lambda x: [item.split(\"_\") for item in x])"
   ]
  },
  {
   "cell_type": "code",
   "execution_count": 6,
   "id": "5c2f2b75-2b98-410f-98a4-913ddd6dd37f",
   "metadata": {
    "scrolled": true
   },
   "outputs": [],
   "source": [
    "annotations_list = [pair for sublist in df['annotations_split'] for pair in sublist]"
   ]
  },
  {
   "cell_type": "code",
   "execution_count": 7,
   "id": "e89c53aa-ae42-4b2a-809f-d855f201c790",
   "metadata": {},
   "outputs": [],
   "source": [
    "label1 = [label[0] for label in annotations_list]\n",
    "label2 = [label[1] for label in annotations_list]"
   ]
  },
  {
   "cell_type": "code",
   "execution_count": 8,
   "id": "182a65ef-ddeb-4899-bbc7-0e04c5d92021",
   "metadata": {},
   "outputs": [
    {
     "name": "stdout",
     "output_type": "stream",
     "text": [
      "{'중립', '두려움', '수치심', '기쁨', '욕망', '미움(상대방)', '분노', '싫어함(상태)', '사랑', '슬픔'}\n"
     ]
    }
   ],
   "source": [
    "print(set(label1))"
   ]
  },
  {
   "cell_type": "code",
   "execution_count": 9,
   "id": "2589ff0b-ab1c-4502-9e03-83dc89e11e9e",
   "metadata": {},
   "outputs": [
    {
     "name": "stdout",
     "output_type": "stream",
     "text": [
      "{'공포', '신뢰감', '반감', '두근거림', '궁금함', '다정함', '불신감', '냉담', '안정감', '날카로움', '자신감', '사나움', '경멸', '감동', '허망', '기대감', '초조함', '그리움', '싫증', '시기심', '비위상함', '타오름', '무기력', '욕심', '놀람', '불만', '매력적', '반가움', '미안함', '동정(슬픔)', '아른거림', '갈등', '고통', '수치심', '후회', '답답함', '발열', '위축감', '아픔', '통쾌함', '난처함', '열정적인', '즐거움', '걱정', '부끄러움', '아쉬움', '심심함', '신명남', '원망', '호감', '억울함', '죄책감', '외로움', '불편함', '서먹함', '불쾌', '편안함', '치사함', '자랑스러움', '실망', '너그러움', '공감', '외면', '절망', '귀중함', '만족감', '고마움'}\n"
     ]
    }
   ],
   "source": [
    "print(set(label2))"
   ]
  },
  {
   "cell_type": "code",
   "execution_count": 10,
   "id": "27ebd550-ee02-4dfb-a19b-70ff5574c54c",
   "metadata": {},
   "outputs": [
    {
     "name": "stdout",
     "output_type": "stream",
     "text": [
      "10\n",
      "67\n"
     ]
    }
   ],
   "source": [
    "print(len(set(label1)))\n",
    "print(len(set(label2)))"
   ]
  },
  {
   "cell_type": "code",
   "execution_count": null,
   "id": "98c202df",
   "metadata": {},
   "outputs": [],
   "source": []
  },
  {
   "cell_type": "code",
   "execution_count": 11,
   "id": "82a0f562",
   "metadata": {},
   "outputs": [],
   "source": [
    "df['label0_0'] = ''\n",
    "df['label0_1'] = ''\n",
    "df['label1_0'] = ''\n",
    "df['label1_1'] = ''\n",
    "df['label2_0'] = ''\n",
    "df['label2_1'] = ''\n",
    "df['label3_0'] = ''\n",
    "df['label3_1'] = ''\n",
    "df['label4_0'] = ''\n",
    "df['label4_1'] = ''\n",
    "for idx, labels in enumerate(df['annotations_split']):\n",
    "  a,b = get_label2(labels, 0)\n",
    "  df.loc[idx,'label0_0'] = a\n",
    "  df.loc[idx,'label0_1'] = b\n",
    "\n",
    "for idx, labels in enumerate(df['annotations_split']):\n",
    "  a,b = get_label2(labels, 1)\n",
    "  df.loc[idx,'label1_0'] = a\n",
    "  df.loc[idx,'label1_1'] = b\n",
    "\n",
    "for idx, labels in enumerate(df['annotations_split']):\n",
    "  a,b = get_label2(labels, 2)\n",
    "  df.loc[idx,'label2_0'] = a\n",
    "  df.loc[idx,'label2_1'] = b\n",
    "\n",
    "for idx, labels in enumerate(df['annotations_split']):\n",
    "  a,b = get_label2(labels, 3)\n",
    "  df.loc[idx,'label3_0'] = a\n",
    "  df.loc[idx,'label3_1'] = b\n",
    "\n",
    "for idx, labels in enumerate(df['annotations_split']):\n",
    "  a,b = get_label2(labels, 4)\n",
    "  df.loc[idx,'label4_0'] = a\n",
    "  df.loc[idx,'label4_1'] = b"
   ]
  },
  {
   "cell_type": "code",
   "execution_count": null,
   "id": "528524d7",
   "metadata": {},
   "outputs": [],
   "source": [
    "all_values = [\n",
    "    # 기쁨\n",
    "    \"반가움\", \"즐거움\", \"신명남\", \"자신감\", \"감동\", \"만족감\", \"편안함\", \"고마움\", \"신뢰감\", \"안정감\", \"공감\", \"자랑스러움\",\n",
    "    # 사랑\n",
    "    \"호감\", \"귀중함\", \"매력적\", \"두근거림\", \"아른거림\", \"너그러움\", \"열정적인\", \"다정함\", \"동정(슬픔)\",\n",
    "    # 슬픔\n",
    "    \"억울함\", \"외로움\", \"후회\", \"실망\", \"허망\", \"그리움\", \"수치심\", \"고통\", \"절망\", \"무기력\", \"아픔\",\n",
    "    # 두려움\n",
    "    \"위축감\", \"놀람\", \"공포\", \"걱정\", \"초조함\",\n",
    "    # 분노\n",
    "    \"원망\", \"불쾌\", \"날카로움\", \"타오름\",\n",
    "    # 미움(상대방)\n",
    "    \"반감\", \"경멸\", \"비위상함\", \"치사함\", \"불신감\", \"시기심\", \"외면\", \"냉담\",\n",
    "    # 욕망\n",
    "    \"욕심\", \"궁금함\", \"아쉬움\", \"불만\", \"갈등\", \"기대감\",\n",
    "    # 싫어함(상태)\n",
    "    \"답답함\", \"불편함\", \"난처함\", \"서먹함\", \"심심함\", \"싫증\",\n",
    "    # 수치심\n",
    "    \"부끄러움\", \"죄책감\", \"미안함\"\n",
    "]\n",
    "len(all_values)\n",
    "\n",
    "# 기쁨\n",
    "joy_set = {\n",
    "    \"반가움\", \"즐거움\", \"신명남\", \"자신감\", \"감동\", \"만족감\",\n",
    "    \"편안함\", \"고마움\", \"신뢰감\", \"안정감\", \"공감\", \"자랑스러움\"\n",
    "}\n",
    "\n",
    "# 사랑\n",
    "love_set = {\n",
    "    \"호감\", \"귀중함\", \"매력적\", \"두근거림\", \"아른거림\",\n",
    "    \"너그러움\", \"열정적인\", \"다정함\", \"동정(슬픔)\"\n",
    "}\n",
    "\n",
    "# 슬픔\n",
    "sadness_set = {\n",
    "    \"억울함\", \"외로움\", \"후회\", \"실망\", \"허망\", \"그리움\",\n",
    "    \"수치심\", \"고통\", \"절망\", \"무기력\", \"아픔\"\n",
    "}\n",
    "\n",
    "# 두려움\n",
    "fear_set = {\n",
    "    \"위축감\", \"놀람\", \"공포\", \"걱정\", \"초조함\"\n",
    "}\n",
    "\n",
    "# 분노\n",
    "anger_set = {\n",
    "    \"원망\", \"불쾌\", \"날카로움\", \"타오름\"\n",
    "}\n",
    "\n",
    "# 미움(상대방)\n",
    "hate_set = {\n",
    "    \"반감\", \"경멸\", \"비위상함\", \"치사함\", \"불신감\",\n",
    "    \"시기심\", \"외면\", \"냉담\"\n",
    "}\n",
    "\n",
    "# 욕망\n",
    "desire_set = {\n",
    "    \"욕심\", \"궁금함\", \"아쉬움\", \"불만\", \"갈등\", \"기대감\"\n",
    "}\n",
    "\n",
    "# 싫어함(상태)\n",
    "dislike_set = {\n",
    "    \"답답함\", \"불편함\", \"난처함\", \"서먹함\", \"심심함\", \"싫증\"\n",
    "}\n",
    "\n",
    "# 수치심\n",
    "shame_set = {\n",
    "    \"부끄러움\", \"죄책감\", \"미안함\"\n",
    "}"
   ]
  },
  {
   "cell_type": "code",
   "execution_count": 13,
   "id": "347bafb1",
   "metadata": {},
   "outputs": [
    {
     "name": "stdout",
     "output_type": "stream",
     "text": [
      "{'발열', '사나움', '통쾌함'}\n"
     ]
    }
   ],
   "source": [
    "all_labels = set(label2)\n",
    "all_values = set(all_values)\n",
    "other_values = all_labels - all_values\n",
    "print(other_values)"
   ]
  },
  {
   "cell_type": "code",
   "execution_count": 14,
   "id": "83b6f433",
   "metadata": {},
   "outputs": [
    {
     "name": "stdout",
     "output_type": "stream",
     "text": [
      "{'중립', '두려움', '수치심', '기쁨', '욕망', '미움(상대방)', '분노', '싫어함(상태)', '사랑', '슬픔'}\n"
     ]
    }
   ],
   "source": [
    "label1_value = set(label1)\n",
    "print(label1_value)\n",
    "label1_value = list(label1_value)"
   ]
  },
  {
   "cell_type": "code",
   "execution_count": 15,
   "id": "a4318ed0",
   "metadata": {},
   "outputs": [
    {
     "name": "stdout",
     "output_type": "stream",
     "text": [
      "분노의 발열 갯수 : 27\n",
      "분노의 사나움 갯수 : 33\n"
     ]
    }
   ],
   "source": [
    "# 로우를 기준을 25개 이상인 경우\n",
    "for label1 in label1_value:\n",
    "  for value in other_values:\n",
    "    df_filtered_exclude = df[\n",
    "      ((df['label0_0'] == label1) & (df['label0_1']==value)) |\n",
    "      ((df['label1_0'] == label1) & (df['label1_1']==value)) |\n",
    "      ((df['label2_0'] == label1) & (df['label2_1']==value)) |\n",
    "      ((df['label3_0'] == label1) & (df['label3_1']==value)) |\n",
    "      ((df['label4_0'] == label1) & (df['label4_1']==value))\n",
    "  ]\n",
    "    if len(df_filtered_exclude) >=25:\n",
    "      print(f'{label1}의 {value} 갯수 :',len(df_filtered_exclude))"
   ]
  },
  {
   "cell_type": "code",
   "execution_count": 59,
   "id": "fff9095f",
   "metadata": {},
   "outputs": [],
   "source": [
    "all_values = set(label2)\n",
    "\n",
    "# 기쁨\n",
    "joy_set = {\n",
    "    \"반가움\", \"즐거움\", \"신명남\", \"자신감\", \"감동\", \"만족감\",\n",
    "    \"편안함\", \"고마움\", \"신뢰감\", \"안정감\", \"공감\", \"자랑스러움\"\n",
    "}\n",
    "not_joy_values = all_values - joy_set\n",
    "\n",
    "# 사랑\n",
    "love_set = {\n",
    "    \"호감\", \"귀중함\", \"매력적\", \"두근거림\", \"아른거림\",\n",
    "    \"너그러움\", \"열정적인\", \"다정함\", \"동정(슬픔)\"\n",
    "}\n",
    "not_love_values = all_values - love_set\n",
    "\n",
    "# 슬픔\n",
    "sadness_set = {\n",
    "    \"억울함\", \"외로움\", \"후회\", \"실망\", \"허망\", \"그리움\",\n",
    "    \"수치심\", \"고통\", \"절망\", \"무기력\", \"아픔\"\n",
    "}\n",
    "not_sadness_values = all_values - sadness_set\n",
    "\n",
    "# 두려움\n",
    "fear_set = {\n",
    "    \"위축감\", \"놀람\", \"공포\", \"걱정\", \"초조함\"\n",
    "}\n",
    "not_fear_values = all_values - fear_set\n",
    "\n",
    "# 분노\n",
    "anger_set = {\n",
    "    \"원망\", \"불쾌\", \"날카로움\", \"타오름\"\n",
    "}\n",
    "not_anger_values = all_values - anger_set\n",
    "\n",
    "# 미움(상대방)\n",
    "hate_set = {\n",
    "    \"반감\", \"경멸\", \"비위상함\", \"치사함\", \"불신감\",\n",
    "    \"시기심\", \"외면\", \"냉담\"\n",
    "}\n",
    "not_hate_values = all_values - hate_set\n",
    "\n",
    "# 욕망\n",
    "desire_set = {\n",
    "    \"욕심\", \"궁금함\", \"아쉬움\", \"불만\", \"갈등\", \"기대감\"\n",
    "}\n",
    "not_desire_values = all_values - desire_set\n",
    "\n",
    "# 싫어함(상태)\n",
    "dislike_set = {\n",
    "    \"답답함\", \"불편함\", \"난처함\", \"서먹함\", \"심심함\", \"싫증\"\n",
    "}\n",
    "not_dislike_values = all_values - dislike_set\n",
    "\n",
    "# 수치심\n",
    "shame_set = {\n",
    "    \"부끄러움\", \"죄책감\", \"미안함\"\n",
    "}\n",
    "not_shame_values = all_values - shame_set"
   ]
  },
  {
   "cell_type": "code",
   "execution_count": null,
   "id": "bfba1649",
   "metadata": {},
   "outputs": [],
   "source": [
    "not_values_list = [\n",
    "    \"not_joy_values\",\n",
    "    \"not_love_values\",\n",
    "    \"not_sadness_values\",\n",
    "    \"not_fear_values\",\n",
    "    \"not_anger_values\",\n",
    "    \"not_hate_values\",\n",
    "    \"not_desire_values\",\n",
    "    \"not_dislike_values\",\n",
    "    \"not_shame_values\",\n",
    "]"
   ]
  },
  {
   "cell_type": "code",
   "execution_count": 17,
   "id": "364ff216",
   "metadata": {},
   "outputs": [],
   "source": [
    "# 라벨별 기준 25개 이상인 경우\n",
    "label_cols = [\n",
    "    ('label0_0', 'label0_1'),\n",
    "    ('label1_0', 'label1_1'),\n",
    "    ('label2_0', 'label2_1'),\n",
    "    ('label3_0', 'label3_1'),\n",
    "    ('label4_0', 'label4_1'),\n",
    "]\n",
    "\n",
    "# 초기화\n",
    "counts = {label1: {value: 0 for value in other_values} for label1 in label1_value}"
   ]
  },
  {
   "cell_type": "code",
   "execution_count": 18,
   "id": "74663d26",
   "metadata": {},
   "outputs": [],
   "source": [
    "for label1 in label1_value:\n",
    "    for value in other_values:\n",
    "        total = 0\n",
    "        for col0, col1 in label_cols:\n",
    "            total += len(df[(df[col0] == label1) & (df[col1] == value)])\n",
    "        counts[label1][value] = total"
   ]
  },
  {
   "cell_type": "code",
   "execution_count": 196,
   "id": "db06ea1d",
   "metadata": {},
   "outputs": [
    {
     "name": "stdout",
     "output_type": "stream",
     "text": [
      "미움(상대방)의 통쾌함 갯수 : 0\n",
      "미움(상대방)의 사나움 갯수 : 0\n",
      "미움(상대방)의 발열 갯수 : 0\n",
      "두려움의 통쾌함 갯수 : 0\n",
      "두려움의 사나움 갯수 : 0\n",
      "두려움의 발열 갯수 : 0\n",
      "사랑의 통쾌함 갯수 : 0\n",
      "사랑의 사나움 갯수 : 0\n",
      "사랑의 발열 갯수 : 0\n",
      "슬픔의 통쾌함 갯수 : 0\n",
      "슬픔의 사나움 갯수 : 0\n",
      "슬픔의 발열 갯수 : 0\n",
      "중립의 통쾌함 갯수 : 1\n",
      "중립의 사나움 갯수 : 0\n",
      "중립의 발열 갯수 : 0\n",
      "분노의 통쾌함 갯수 : 0\n",
      "분노의 사나움 갯수 : 44\n",
      "분노의 발열 갯수 : 38\n",
      "기쁨의 통쾌함 갯수 : 27\n",
      "기쁨의 사나움 갯수 : 0\n",
      "기쁨의 발열 갯수 : 0\n",
      "싫어함(상태)의 통쾌함 갯수 : 0\n",
      "싫어함(상태)의 사나움 갯수 : 0\n",
      "싫어함(상태)의 발열 갯수 : 0\n",
      "수치심의 통쾌함 갯수 : 0\n",
      "수치심의 사나움 갯수 : 0\n",
      "수치심의 발열 갯수 : 0\n",
      "욕망의 통쾌함 갯수 : 0\n",
      "욕망의 사나움 갯수 : 0\n",
      "욕망의 발열 갯수 : 0\n"
     ]
    }
   ],
   "source": [
    "for label1 in counts:\n",
    "    for value in counts[label1]:\n",
    "        print(f'{label1}의 {value} 갯수 : {counts[label1][value]}')"
   ]
  },
  {
   "cell_type": "code",
   "execution_count": null,
   "id": "262e179f",
   "metadata": {},
   "outputs": [
    {
     "name": "stdout",
     "output_type": "stream",
     "text": [
      "55\n"
     ]
    }
   ],
   "source": [
    "# 기쁨\n",
    "joy_set = {\n",
    "    \"반가움\", \"즐거움\", \"신명남\", \"자신감\", \"감동\", \"만족감\",\n",
    "    \"편안함\", \"고마움\", \"신뢰감\", \"안정감\", \"공감\", \"자랑스러움\"\n",
    "}\n",
    "\n",
    "all_values = set(label2)\n",
    "\n",
    "not_joy_values = all_values - joy_set\n",
    "print(len(not_joy_values))"
   ]
  },
  {
   "cell_type": "code",
   "execution_count": null,
   "id": "56ee2448",
   "metadata": {},
   "outputs": [],
   "source": [
    "label_pairs = [\n",
    "    ('label0_0', 'label0_1'),\n",
    "    ('label1_0', 'label1_1'),\n",
    "    ('label2_0', 'label2_1'),\n",
    "    ('label3_0', 'label3_1'),\n",
    "    ('label4_0', 'label4_1'),\n",
    "]\n",
    "\n",
    "for value in not_joy_values:\n",
    "    total = 0\n",
    "    for col0, col1 in label_pairs:\n",
    "        total += len(df[(df[col0] == '기쁨') & (df[col1] == value)])\n",
    "\n",
    "    if total >= 25:\n",
    "        print(f'기쁨의 {value} 갯수 :', total)"
   ]
  },
  {
   "cell_type": "code",
   "execution_count": null,
   "id": "35c5be6f",
   "metadata": {},
   "outputs": [
    {
     "name": "stdout",
     "output_type": "stream",
     "text": [
      "\n",
      "=== 기쁨 ===\n",
      "기쁨의 통쾌함 갯수: 27\n",
      "기쁨의 기대감 갯수: 25\n",
      "기쁨의 놀람 갯수: 26\n",
      "\n",
      "=== 사랑 ===\n",
      "\n",
      "=== 슬픔 ===\n",
      "슬픔의 동정(슬픔) 갯수: 89\n",
      "\n",
      "=== 두려움 ===\n",
      "\n",
      "=== 분노 ===\n",
      "분노의 발열 갯수: 38\n",
      "분노의 사나움 갯수: 44\n",
      "\n",
      "=== 미움(상대방) ===\n",
      "\n",
      "=== 욕망 ===\n",
      "\n",
      "=== 싫어함(상태) ===\n",
      "\n",
      "=== 수치심 ===\n",
      "\n",
      "=== 중립 ===\n",
      "중립의 놀람 갯수: 31\n"
     ]
    }
   ],
   "source": [
    "# 중분류별 소분류 중에서 25개 이상인 것만 출력\n",
    "category_sets = {\n",
    "    '기쁨': {\n",
    "        \"반가움\", \"즐거움\", \"신명남\", \"자신감\", \"감동\", \"만족감\",\n",
    "        \"편안함\", \"고마움\", \"신뢰감\", \"안정감\", \"공감\", \"자랑스러움\"\n",
    "    },\n",
    "    '사랑': {\n",
    "        \"호감\", \"귀중함\", \"매력적\", \"두근거림\", \"아른거림\",\n",
    "        \"너그러움\", \"열정적인\", \"다정함\", \"동정(슬픔)\"\n",
    "    },\n",
    "    '슬픔': {\n",
    "        \"억울함\", \"외로움\", \"후회\", \"실망\", \"허망\", \"그리움\",\n",
    "        \"수치심\", \"고통\", \"절망\", \"무기력\", \"아픔\"\n",
    "    },\n",
    "    '두려움': {\n",
    "        \"위축감\", \"놀람\", \"공포\", \"걱정\", \"초조함\"\n",
    "    },\n",
    "    '분노': {\n",
    "        \"원망\", \"불쾌\", \"날카로움\", \"타오름\"\n",
    "    },\n",
    "    '미움(상대방)': {\n",
    "        \"반감\", \"경멸\", \"비위상함\", \"치사함\", \"불신감\",\n",
    "        \"시기심\", \"외면\", \"냉담\"\n",
    "    },\n",
    "    '욕망': {\n",
    "        \"욕심\", \"궁금함\", \"아쉬움\", \"불만\", \"갈등\", \"기대감\"\n",
    "    },\n",
    "    '싫어함(상태)': {\n",
    "        \"답답함\", \"불편함\", \"난처함\", \"서먹함\", \"심심함\", \"싫증\"\n",
    "    },\n",
    "    '수치심': {\n",
    "        \"부끄러움\", \"죄책감\", \"미안함\"\n",
    "    }\n",
    "}\n",
    "\n",
    "all_values = set(label2)\n",
    "\n",
    "label_pairs = [\n",
    "    ('label0_0', 'label0_1'),\n",
    "    ('label1_0', 'label1_1'),\n",
    "    ('label2_0', 'label2_1'),\n",
    "    ('label3_0', 'label3_1'),\n",
    "    ('label4_0', 'label4_1'),\n",
    "]\n",
    "\n",
    "for category, belongs_to_values in category_sets.items():\n",
    "    print(f\"\\n=== {category} ===\")\n",
    "    not_belongs_values = all_values - belongs_to_values\n",
    "    \n",
    "    for value in not_belongs_values:\n",
    "        total = 0\n",
    "        for col0, col1 in label_pairs:\n",
    "            total += len(df[(df[col0] == category) & (df[col1] == value)])\n",
    "        \n",
    "        if total >= 25:\n",
    "            print(f'{category}의 {value} 갯수: {total}')\n",
    "\n",
    "# 중립 처리 (중립은 별도 세트가 없으므로)\n",
    "print(f\"\\n=== 중립 ===\")\n",
    "for value in all_values:\n",
    "    total = 0\n",
    "    for col0, col1 in label_pairs:\n",
    "        total += len(df[(df[col0] == '중립') & (df[col1] == value)])\n",
    "    \n",
    "    if total >= 25:\n",
    "        print(f'중립의 {value} 갯수: {total}')"
   ]
  },
  {
   "cell_type": "code",
   "execution_count": null,
   "id": "ac5bd65a",
   "metadata": {},
   "outputs": [],
   "source": []
  }
 ],
 "metadata": {
  "kernelspec": {
   "display_name": "skn_after_study",
   "language": "python",
   "name": "python3"
  },
  "language_info": {
   "codemirror_mode": {
    "name": "ipython",
    "version": 3
   },
   "file_extension": ".py",
   "mimetype": "text/x-python",
   "name": "python",
   "nbconvert_exporter": "python",
   "pygments_lexer": "ipython3",
   "version": "3.12.11"
  }
 },
 "nbformat": 4,
 "nbformat_minor": 5
}
